{
 "cells": [
  {
   "cell_type": "markdown",
   "id": "f238b535",
   "metadata": {},
   "source": [
    "Soal 1 :\n",
    "Aplikasi simple penjumlahan\n",
    "1. Input angka ke 1 dan input angka ke 2\n",
    "2. Jika ternyata yang di input adalah bukan angka maka ada notif input ulang\n",
    "3. Jika input ke 1 dan ke 2 sudah sesuai kemudian bisa di jumlahkan"
   ]
  },
  {
   "cell_type": "code",
   "execution_count": 1,
   "id": "475c0aa7",
   "metadata": {},
   "outputs": [
    {
     "name": "stdout",
     "output_type": "stream",
     "text": [
      "Masukan variabel 1 integer : 25\n",
      "Masukan variabel 2 integer: 25\n",
      "50\n"
     ]
    }
   ],
   "source": [
    "# Tugas utama\n",
    "while True:\n",
    "  try:\n",
    "     satu=int(input('Masukan variabel 1 integer : ')) \n",
    "     dua=int(input('Masukan variabel 2 integer: '))\n",
    "  except ValueError:\n",
    "    print('Input ulang')\n",
    "  else:\n",
    "    print(satu+dua)\n",
    "    break"
   ]
  },
  {
   "cell_type": "markdown",
   "id": "b322ce77",
   "metadata": {},
   "source": [
    "Soal 2 :\n",
    "Aplikasi simple warna\n",
    "1. User memasukan 2 buah input A dan B\n",
    "2. Jika A atau B mengandung angka 1 atau 5, maka akan muncul warna merah\n",
    "3. Jika A dan B mengandung angka 2 dan 3 bisa terbalik, maka akan muncul warna biru\n",
    "4. Jika A atau B mengandung angka 4 maka memunculkan tulisan kuning\n",
    "5. Selain itu muncul warna hijau"
   ]
  },
  {
   "cell_type": "code",
   "execution_count": 2,
   "id": "cff41616",
   "metadata": {},
   "outputs": [
    {
     "name": "stdout",
     "output_type": "stream",
     "text": [
      "Masukan variabel A : 2\n",
      "Masukan variabel B : 4\n",
      "biru\n"
     ]
    }
   ],
   "source": [
    "# Jawaban pertama mengandung satu warna\n",
    "while True :\n",
    "    try:\n",
    "        polo = int(input('Masukan variabel A : '))\n",
    "        marco = int(input('Masukan variabel B : '))\n",
    "    except ValueError:\n",
    "        print('Input Ulang')\n",
    "    else:\n",
    "        break\n",
    "\n",
    "#Syarat 2        \n",
    "if polo == (1 or 5):\n",
    "    print('merah')\n",
    "elif marco == (1 or 5):\n",
    "    print('merah')\n",
    "    \n",
    "#Syarat 3\n",
    "elif polo == ( 2  or 3):\n",
    "    print('biru')\n",
    "elif marco == (2  or 3):\n",
    "    print('biru')\n",
    "\n",
    "#Syarat 4\n",
    "elif polo == 4:\n",
    "    print('kuning')\n",
    "elif marco == 4:\n",
    "    print('kuning')\n",
    "\n",
    "#Syarat 5    \n",
    "else:\n",
    "    print('hijau')"
   ]
  },
  {
   "cell_type": "code",
   "execution_count": 3,
   "id": "f3c908b6",
   "metadata": {},
   "outputs": [
    {
     "name": "stdout",
     "output_type": "stream",
     "text": [
      "Masukan variabel A : 2\n",
      "Masukan variabel B : 4\n",
      "biru\n",
      "kuning\n"
     ]
    }
   ],
   "source": [
    "# Jawaban kedua mengandung dua warna\n",
    "while True :\n",
    "    try:\n",
    "        polo = int(input('Masukan variabel A : '))\n",
    "        marco = int(input('Masukan variabel B : '))\n",
    "    except ValueError:\n",
    "        print('Input Ulang')\n",
    "    else:\n",
    "        break\n",
    "\n",
    "\n",
    "#Syarat 2        \n",
    "if polo == (1 or 5) or marco == (1 or 5):\n",
    "    print('merah')\n",
    "        \n",
    "#Syarat 3\n",
    "elif polo == ( 2 or 3) or marco == (2 or 3):\n",
    "    print('biru')\n",
    "        \n",
    "#Syarat 4\n",
    "if polo == (4) or marco == (4):\n",
    "    print('kuning')\n",
    "            \n",
    "#Syarat 5    \n",
    "else:\n",
    "    print('hijau')"
   ]
  }
 ],
 "metadata": {
  "kernelspec": {
   "display_name": "Python 3 (ipykernel)",
   "language": "python",
   "name": "python3"
  },
  "language_info": {
   "codemirror_mode": {
    "name": "ipython",
    "version": 3
   },
   "file_extension": ".py",
   "mimetype": "text/x-python",
   "name": "python",
   "nbconvert_exporter": "python",
   "pygments_lexer": "ipython3",
   "version": "3.10.7"
  }
 },
 "nbformat": 4,
 "nbformat_minor": 5
}

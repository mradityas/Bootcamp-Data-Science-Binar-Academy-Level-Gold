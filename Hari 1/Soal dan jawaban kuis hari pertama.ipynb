{
 "cells": [
  {
   "cell_type": "markdown",
   "id": "5f18423e",
   "metadata": {},
   "source": [
    "Soal 1: \n",
    "a = 'Hello World Peserta'\n",
    "a = 'Hello World Siswa'\n",
    "b = 'Binar'\n",
    "b = 'Binarian'\n",
    "\n",
    "\n",
    "print(f'{a} {b}')\n",
    "---------------------------------------------------------\n",
    "Apa output dari kode diatas"
   ]
  },
  {
   "cell_type": "code",
   "execution_count": 2,
   "id": "cc30042e",
   "metadata": {},
   "outputs": [
    {
     "name": "stdout",
     "output_type": "stream",
     "text": [
      "Hello World Siswa Binarian\n"
     ]
    }
   ],
   "source": [
    "a = 'Hello World Peserta'\n",
    "a = 'Hello World Siswa'\n",
    "b = 'Binar'\n",
    "b = 'Binarian'\n",
    "print(f'{a} {b}')"
   ]
  },
  {
   "cell_type": "markdown",
   "id": "4c2b4c8a",
   "metadata": {},
   "source": [
    "Soal 2 : \n",
    "def input_var():\n",
    "    a = input('Input :')\n",
    "    return a\n",
    "--------------------------------------------\n",
    "Jika function diatas dijalankan\n",
    "\n",
    "a = input_var()\n",
    "\n",
    "kemudian di input\n",
    "\n",
    "212\n",
    "\n",
    "apa tipe data dari variabel a?"
   ]
  },
  {
   "cell_type": "code",
   "execution_count": 6,
   "id": "9f5180bd",
   "metadata": {},
   "outputs": [],
   "source": [
    "def input_var():\n",
    "    a = input('Input :')\n",
    "    return a"
   ]
  },
  {
   "cell_type": "code",
   "execution_count": 7,
   "id": "0d5da027",
   "metadata": {},
   "outputs": [
    {
     "name": "stdout",
     "output_type": "stream",
     "text": [
      "Input :25\n"
     ]
    },
    {
     "data": {
      "text/plain": [
       "str"
      ]
     },
     "execution_count": 7,
     "metadata": {},
     "output_type": "execute_result"
    }
   ],
   "source": [
    "type(input_var())"
   ]
  },
  {
   "cell_type": "markdown",
   "id": "e8f68193",
   "metadata": {},
   "source": [
    "Soal 3 :\n",
    "def fun(num):\n",
    "    if num<200:\n",
    "        return \"Low\"\n",
    "  \n",
    "    elif ______________________________:\n",
    "        return \"Normal\"\n",
    "  \n",
    "    else:\n",
    "        return \"High\"\n",
    "    \n",
    "fun(300)\n",
    "\n",
    "\n",
    "------------------------------------------------------------------------------------\n",
    "Lengkapi kode elif diatas yang mana untuk klasisifikasi bilangan diantara 200 sd 400"
   ]
  },
  {
   "cell_type": "code",
   "execution_count": 8,
   "id": "287db29b",
   "metadata": {},
   "outputs": [
    {
     "data": {
      "text/plain": [
       "'Normal'"
      ]
     },
     "execution_count": 8,
     "metadata": {},
     "output_type": "execute_result"
    }
   ],
   "source": [
    "def fun(num):\n",
    "    if num<200:\n",
    "        return \"Low\"\n",
    "  \n",
    "    elif num>=200 and num <400: \n",
    "        return \"Normal\"\n",
    "  \n",
    "    else:\n",
    "        return \"High\"\n",
    "fun(200)"
   ]
  },
  {
   "cell_type": "markdown",
   "id": "0f977ab9",
   "metadata": {},
   "source": [
    "Soal 4 :\n",
    "list_number = [0,1,2,3,4,5,6,7,8,9]\n",
    "\n",
    "for i in list_number:\n",
    "    if i == 8:\n",
    "        break\n",
    "    elif i != 5:\n",
    "        print(i)\n",
    "        continue\n",
    "       \n",
    "--------------------------------------------------------------\n",
    "Apa saja output dari kode diatas nya?"
   ]
  },
  {
   "cell_type": "code",
   "execution_count": 9,
   "id": "b2b9078b",
   "metadata": {
    "scrolled": true
   },
   "outputs": [
    {
     "name": "stdout",
     "output_type": "stream",
     "text": [
      "0\n",
      "1\n",
      "2\n",
      "3\n",
      "4\n",
      "6\n",
      "7\n"
     ]
    }
   ],
   "source": [
    "list_number = [0,1,2,3,4,5,6,7,8,9]\n",
    "\n",
    "for i in list_number:\n",
    "    if i == 8:\n",
    "        break\n",
    "    elif i != 5:\n",
    "        print(i)\n",
    "        continue"
   ]
  }
 ],
 "metadata": {
  "kernelspec": {
   "display_name": "Python 3 (ipykernel)",
   "language": "python",
   "name": "python3"
  },
  "language_info": {
   "codemirror_mode": {
    "name": "ipython",
    "version": 3
   },
   "file_extension": ".py",
   "mimetype": "text/x-python",
   "name": "python",
   "nbconvert_exporter": "python",
   "pygments_lexer": "ipython3",
   "version": "3.10.7"
  }
 },
 "nbformat": 4,
 "nbformat_minor": 5
}
